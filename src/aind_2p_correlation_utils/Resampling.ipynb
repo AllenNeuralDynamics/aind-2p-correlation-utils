{
 "cells": [
  {
   "cell_type": "markdown",
   "id": "d35d83f1",
   "metadata": {},
   "source": [
    "**Behavior and Imaging Correlation** \n",
    "\n",
    "This notebook provides tools for correlation between the normalized movement of experimental mice and the dF/F calcium two-photon imaging data to investigate possible involvement of recorded neurons in the motor activity from the corresponding video trials."
   ]
  },
  {
   "cell_type": "code",
   "execution_count": 1,
   "id": "e515bf7a",
   "metadata": {},
   "outputs": [],
   "source": [
    "import os\n",
    "from glob import glob\n",
    "import json\n",
    "import scipy\n",
    "import math\n",
    "from scipy import ndimage\n",
    "import pandas as pd\n",
    "from pandas import DataFrame\n",
    "import numpy as np\n",
    "from numpy import genfromtxt\n",
    "from scipy.stats import pearsonr\n",
    "from datetime import datetime\n",
    "import matplotlib.pyplot as plt\n",
    "from pathlib import Path\n",
    "from io_utils import find_trials, session_time, read_trial_coordinates, read_speed_coordinates\n",
    "from body_part_calc import rename_columns, add_speed_columns\n",
    "\n",
    "raw_data = scipy.io.loadmat('/root/capsule/data/Jan18/bci_session_data/sorted_data/data_behav_BCI29_042222.mat')"
   ]
  },
  {
   "cell_type": "markdown",
   "id": "fe2593b8",
   "metadata": {},
   "source": [
    "In the following cell, **\"video_dir\"** and **\"csv_dir\"** might have the same pathway for DeepLabCut-generated files or contain two different pathways for Lightning Pose CSVs.\n",
    "1. \"project_name\" is the name of the data asset in the \"data\" folder.\n",
    "2. \"video_dir\" is the directory that contains experimental video files.\n",
    "3. \"data_dir\" corresponds to the data asset folder.\n",
    "4. \"csv_dir\" is the pathway to the folder with the CSV files containing predictions.\n",
    "5. \"json_dir\" is the pathway to the experimental JSON files for every trial video.\n",
    "6. \"output_dir\" is generated automatically and will save all outputs."
   ]
  },
  {
   "cell_type": "code",
   "execution_count": 2,
   "id": "3fc297bf",
   "metadata": {
    "tags": []
   },
   "outputs": [],
   "source": [
    "# Identifying directories with relevant data and information\n",
    "project_name = 'pred_ophys_whiskers-Alena-2024-07-19'\n",
    "video_dir = os.path.join('/root/capsule/data/pred_ophys_whiskers-Alena-2024-07-19/videos')\n",
    "data_dir = os.path.join('/root/capsule/data/pred_ophys_whiskers-Alena-2024-07-19')\n",
    "csv_dir = os.path.join('/root/capsule/data/pred_ophys_whiskers-Alena-2024-07-19/videos/')\n",
    "json_dir = os.path.join('/root/capsule/data/single-plane-ophys_608551_2022-04-22_12-39-41/behavior-videos/side/2022-04-22_12-08-56')\n",
    "\n",
    "# Creating an output directory in scratch\n",
    "output_dir = os.path.join(f\"/root/capsule/scratch\",\n",
    "                            project_name)\n",
    "Path(output_dir).mkdir(parents=True, exist_ok=True)"
   ]
  },
  {
   "cell_type": "markdown",
   "id": "15a9de8d",
   "metadata": {},
   "source": [
    "The **\"find_trials\"** function goes through the trial video names and trims the extension to obtain the full list of the session's contents. The current method in io_utils.py is set up for DeepLabCut, need to change one line in the code if using Lightning Pose data (see instructions in the module).\n",
    "\n",
    "**\"session_time\"** loops through the trial JSON files and calculates the overall session length. Additionally, the code below identifies the frames within the imaging dataset that correspond to specific trials."
   ]
  },
  {
   "cell_type": "code",
   "execution_count": 3,
   "id": "6665e1e1",
   "metadata": {
    "collapsed": true,
    "jupyter": {
     "outputs_hidden": true
    },
    "tags": []
   },
   "outputs": [
    {
     "name": "stdout",
     "output_type": "stream",
     "text": [
      "trial_00000__2022-04-22_12-08-56DLC_resnet50_ophys_whiskersJul19shuffle1_100000: (0, 248)\n",
      "trial_00001__2022-04-22_12-09-19DLC_resnet50_ophys_whiskersJul19shuffle1_100000: (248, 729)\n",
      "trial_00002__2022-04-22_12-09-44DLC_resnet50_ophys_whiskersJul19shuffle1_100000: (729, 868)\n",
      "trial_00003__2022-04-22_12-09-51DLC_resnet50_ophys_whiskersJul19shuffle1_100000: (868, 1249)\n",
      "trial_00004__2022-04-22_12-10-11DLC_resnet50_ophys_whiskersJul19shuffle1_100000: (1249, 1453)\n",
      "trial_00005__2022-04-22_12-10-21DLC_resnet50_ophys_whiskersJul19shuffle1_100000: (1453, 1607)\n",
      "trial_00006__2022-04-22_12-10-29DLC_resnet50_ophys_whiskersJul19shuffle1_100000: (1607, 1794)\n",
      "trial_00007__2022-04-22_12-10-39DLC_resnet50_ophys_whiskersJul19shuffle1_100000: (1794, 1950)\n",
      "trial_00008__2022-04-22_12-10-47DLC_resnet50_ophys_whiskersJul19shuffle1_100000: (1950, 2184)\n",
      "trial_00009__2022-04-22_12-10-59DLC_resnet50_ophys_whiskersJul19shuffle1_100000: (2184, 2879)\n",
      "trial_00010__2022-04-22_12-11-35DLC_resnet50_ophys_whiskersJul19shuffle1_100000: (2879, 3122)\n",
      "trial_00011__2022-04-22_12-11-47DLC_resnet50_ophys_whiskersJul19shuffle1_100000: (3122, 3265)\n",
      "trial_00012__2022-04-22_12-11-54DLC_resnet50_ophys_whiskersJul19shuffle1_100000: (3265, 3585)\n",
      "trial_00013__2022-04-22_12-12-11DLC_resnet50_ophys_whiskersJul19shuffle1_100000: (3585, 3748)\n",
      "trial_00014__2022-04-22_12-12-19DLC_resnet50_ophys_whiskersJul19shuffle1_100000: (3748, 3889)\n",
      "trial_00015__2022-04-22_12-12-27DLC_resnet50_ophys_whiskersJul19shuffle1_100000: (3889, 4154)\n",
      "trial_00016__2022-04-22_12-12-40DLC_resnet50_ophys_whiskersJul19shuffle1_100000: (4154, 4345)\n",
      "trial_00017__2022-04-22_12-12-50DLC_resnet50_ophys_whiskersJul19shuffle1_100000: (4345, 4519)\n",
      "trial_00018__2022-04-22_12-12-59DLC_resnet50_ophys_whiskersJul19shuffle1_100000: (4519, 4697)\n",
      "trial_00019__2022-04-22_12-13-08DLC_resnet50_ophys_whiskersJul19shuffle1_100000: (4697, 4958)\n",
      "trial_00020__2022-04-22_12-13-22DLC_resnet50_ophys_whiskersJul19shuffle1_100000: (4958, 5226)\n",
      "trial_00021__2022-04-22_12-13-35DLC_resnet50_ophys_whiskersJul19shuffle1_100000: (5226, 5345)\n",
      "trial_00022__2022-04-22_12-13-42DLC_resnet50_ophys_whiskersJul19shuffle1_100000: (5345, 5555)\n",
      "trial_00023__2022-04-22_12-13-52DLC_resnet50_ophys_whiskersJul19shuffle1_100000: (5555, 5705)\n",
      "trial_00024__2022-04-22_12-14-00DLC_resnet50_ophys_whiskersJul19shuffle1_100000: (5705, 5911)\n",
      "trial_00025__2022-04-22_12-14-11DLC_resnet50_ophys_whiskersJul19shuffle1_100000: (5911, 6072)\n",
      "trial_00026__2022-04-22_12-14-19DLC_resnet50_ophys_whiskersJul19shuffle1_100000: (6072, 6225)\n",
      "trial_00027__2022-04-22_12-14-27DLC_resnet50_ophys_whiskersJul19shuffle1_100000: (6225, 6687)\n",
      "trial_00028__2022-04-22_12-14-51DLC_resnet50_ophys_whiskersJul19shuffle1_100000: (6687, 6804)\n",
      "trial_00029__2022-04-22_12-14-57DLC_resnet50_ophys_whiskersJul19shuffle1_100000: (6804, 7150)\n",
      "trial_00030__2022-04-22_12-15-15DLC_resnet50_ophys_whiskersJul19shuffle1_100000: (7150, 7289)\n",
      "trial_00031__2022-04-22_12-15-22DLC_resnet50_ophys_whiskersJul19shuffle1_100000: (7289, 7712)\n",
      "trial_00032__2022-04-22_12-15-44DLC_resnet50_ophys_whiskersJul19shuffle1_100000: (7712, 7899)\n",
      "trial_00033__2022-04-22_12-15-53DLC_resnet50_ophys_whiskersJul19shuffle1_100000: (7899, 8030)\n",
      "trial_00034__2022-04-22_12-16-00DLC_resnet50_ophys_whiskersJul19shuffle1_100000: (8030, 8386)\n",
      "trial_00035__2022-04-22_12-16-18DLC_resnet50_ophys_whiskersJul19shuffle1_100000: (8386, 8620)\n",
      "trial_00036__2022-04-22_12-16-30DLC_resnet50_ophys_whiskersJul19shuffle1_100000: (8620, 8854)\n",
      "trial_00037__2022-04-22_12-16-42DLC_resnet50_ophys_whiskersJul19shuffle1_100000: (8854, 8995)\n",
      "trial_00038__2022-04-22_12-16-50DLC_resnet50_ophys_whiskersJul19shuffle1_100000: (8995, 9200)\n",
      "trial_00039__2022-04-22_12-17-00DLC_resnet50_ophys_whiskersJul19shuffle1_100000: (9200, 9369)\n",
      "trial_00040__2022-04-22_12-17-09DLC_resnet50_ophys_whiskersJul19shuffle1_100000: (9369, 9533)\n",
      "trial_00041__2022-04-22_12-17-17DLC_resnet50_ophys_whiskersJul19shuffle1_100000: (9533, 9855)\n",
      "trial_00042__2022-04-22_12-17-34DLC_resnet50_ophys_whiskersJul19shuffle1_100000: (9855, 10080)\n",
      "trial_00043__2022-04-22_12-17-46DLC_resnet50_ophys_whiskersJul19shuffle1_100000: (10080, 10326)\n",
      "trial_00044__2022-04-22_12-17-58DLC_resnet50_ophys_whiskersJul19shuffle1_100000: (10326, 10533)\n",
      "trial_00045__2022-04-22_12-18-09DLC_resnet50_ophys_whiskersJul19shuffle1_100000: (10533, 10842)\n",
      "trial_00046__2022-04-22_12-18-25DLC_resnet50_ophys_whiskersJul19shuffle1_100000: (10842, 10992)\n",
      "trial_00047__2022-04-22_12-18-33DLC_resnet50_ophys_whiskersJul19shuffle1_100000: (10992, 11221)\n",
      "trial_00048__2022-04-22_12-18-44DLC_resnet50_ophys_whiskersJul19shuffle1_100000: (11221, 11404)\n",
      "trial_00049__2022-04-22_12-18-54DLC_resnet50_ophys_whiskersJul19shuffle1_100000: (11404, 11553)\n",
      "trial_00050__2022-04-22_12-19-01DLC_resnet50_ophys_whiskersJul19shuffle1_100000: (11553, 11756)\n",
      "trial_00051__2022-04-22_12-19-12DLC_resnet50_ophys_whiskersJul19shuffle1_100000: (11756, 11984)\n",
      "trial_00052__2022-04-22_12-19-24DLC_resnet50_ophys_whiskersJul19shuffle1_100000: (11984, 12147)\n",
      "trial_00053__2022-04-22_12-19-32DLC_resnet50_ophys_whiskersJul19shuffle1_100000: (12147, 12385)\n",
      "trial_00054__2022-04-22_12-19-44DLC_resnet50_ophys_whiskersJul19shuffle1_100000: (12385, 12592)\n",
      "trial_00055__2022-04-22_12-19-55DLC_resnet50_ophys_whiskersJul19shuffle1_100000: (12592, 12785)\n",
      "trial_00056__2022-04-22_12-20-05DLC_resnet50_ophys_whiskersJul19shuffle1_100000: (12785, 13009)\n",
      "trial_00057__2022-04-22_12-20-16DLC_resnet50_ophys_whiskersJul19shuffle1_100000: (13009, 13199)\n",
      "trial_00058__2022-04-22_12-20-26DLC_resnet50_ophys_whiskersJul19shuffle1_100000: (13199, 13445)\n",
      "trial_00059__2022-04-22_12-20-39DLC_resnet50_ophys_whiskersJul19shuffle1_100000: (13445, 13675)\n",
      "trial_00060__2022-04-22_12-20-51DLC_resnet50_ophys_whiskersJul19shuffle1_100000: (13675, 14031)\n",
      "trial_00061__2022-04-22_12-21-09DLC_resnet50_ophys_whiskersJul19shuffle1_100000: (14031, 14265)\n",
      "trial_00062__2022-04-22_12-21-21DLC_resnet50_ophys_whiskersJul19shuffle1_100000: (14265, 14401)\n",
      "trial_00063__2022-04-22_12-21-28DLC_resnet50_ophys_whiskersJul19shuffle1_100000: (14401, 14517)\n",
      "trial_00064__2022-04-22_12-21-34DLC_resnet50_ophys_whiskersJul19shuffle1_100000: (14517, 14833)\n",
      "trial_00065__2022-04-22_12-21-50DLC_resnet50_ophys_whiskersJul19shuffle1_100000: (14833, 15191)\n",
      "trial_00066__2022-04-22_12-22-09DLC_resnet50_ophys_whiskersJul19shuffle1_100000: (15191, 15642)\n",
      "trial_00067__2022-04-22_12-22-32DLC_resnet50_ophys_whiskersJul19shuffle1_100000: (15642, 15895)\n",
      "trial_00068__2022-04-22_12-22-45DLC_resnet50_ophys_whiskersJul19shuffle1_100000: (15895, 16088)\n",
      "trial_00069__2022-04-22_12-22-55DLC_resnet50_ophys_whiskersJul19shuffle1_100000: (16088, 16289)\n",
      "trial_00070__2022-04-22_12-23-05DLC_resnet50_ophys_whiskersJul19shuffle1_100000: (16289, 16446)\n",
      "trial_00071__2022-04-22_12-23-13DLC_resnet50_ophys_whiskersJul19shuffle1_100000: (16446, 16611)\n",
      "trial_00072__2022-04-22_12-23-22DLC_resnet50_ophys_whiskersJul19shuffle1_100000: (16611, 16787)\n",
      "trial_00073__2022-04-22_12-23-31DLC_resnet50_ophys_whiskersJul19shuffle1_100000: (16787, 17000)\n",
      "trial_00074__2022-04-22_12-23-42DLC_resnet50_ophys_whiskersJul19shuffle1_100000: (17000, 17204)\n",
      "trial_00075__2022-04-22_12-23-52DLC_resnet50_ophys_whiskersJul19shuffle1_100000: (17204, 17363)\n",
      "trial_00076__2022-04-22_12-24-01DLC_resnet50_ophys_whiskersJul19shuffle1_100000: (17363, 17674)\n",
      "trial_00077__2022-04-22_12-24-17DLC_resnet50_ophys_whiskersJul19shuffle1_100000: (17674, 17877)\n",
      "trial_00078__2022-04-22_12-24-27DLC_resnet50_ophys_whiskersJul19shuffle1_100000: (17877, 18073)\n",
      "trial_00079__2022-04-22_12-24-37DLC_resnet50_ophys_whiskersJul19shuffle1_100000: (18073, 18297)\n",
      "trial_00080__2022-04-22_12-24-49DLC_resnet50_ophys_whiskersJul19shuffle1_100000: (18297, 18543)\n",
      "trial_00081__2022-04-22_12-25-01DLC_resnet50_ophys_whiskersJul19shuffle1_100000: (18543, 18850)\n",
      "trial_00082__2022-04-22_12-25-17DLC_resnet50_ophys_whiskersJul19shuffle1_100000: (18850, 19084)\n",
      "trial_00083__2022-04-22_12-25-29DLC_resnet50_ophys_whiskersJul19shuffle1_100000: (19084, 19702)\n",
      "trial_00084__2022-04-22_12-26-01DLC_resnet50_ophys_whiskersJul19shuffle1_100000: (19702, 19921)\n",
      "trial_00085__2022-04-22_12-26-12DLC_resnet50_ophys_whiskersJul19shuffle1_100000: (19921, 20074)\n",
      "trial_00086__2022-04-22_12-26-20DLC_resnet50_ophys_whiskersJul19shuffle1_100000: (20074, 20380)\n",
      "trial_00087__2022-04-22_12-26-36DLC_resnet50_ophys_whiskersJul19shuffle1_100000: (20380, 20614)\n",
      "trial_00088__2022-04-22_12-26-48DLC_resnet50_ophys_whiskersJul19shuffle1_100000: (20614, 20886)\n",
      "trial_00089__2022-04-22_12-27-02DLC_resnet50_ophys_whiskersJul19shuffle1_100000: (20886, 21104)\n",
      "trial_00090__2022-04-22_12-27-13DLC_resnet50_ophys_whiskersJul19shuffle1_100000: (21104, 21367)\n",
      "trial_00091__2022-04-22_12-27-27DLC_resnet50_ophys_whiskersJul19shuffle1_100000: (21367, 21631)\n",
      "trial_00092__2022-04-22_12-27-41DLC_resnet50_ophys_whiskersJul19shuffle1_100000: (21631, 22026)\n",
      "trial_00093__2022-04-22_12-28-01DLC_resnet50_ophys_whiskersJul19shuffle1_100000: (22026, 22230)\n",
      "trial_00094__2022-04-22_12-28-11DLC_resnet50_ophys_whiskersJul19shuffle1_100000: (22230, 22504)\n",
      "trial_00095__2022-04-22_12-28-25DLC_resnet50_ophys_whiskersJul19shuffle1_100000: (22504, 22949)\n",
      "trial_00096__2022-04-22_12-28-48DLC_resnet50_ophys_whiskersJul19shuffle1_100000: (22949, 23175)\n",
      "trial_00097__2022-04-22_12-29-00DLC_resnet50_ophys_whiskersJul19shuffle1_100000: (23175, 23409)\n",
      "trial_00098__2022-04-22_12-29-12DLC_resnet50_ophys_whiskersJul19shuffle1_100000: (23409, 23546)\n",
      "trial_00099__2022-04-22_12-29-19DLC_resnet50_ophys_whiskersJul19shuffle1_100000: (23546, 24240)\n",
      "trial_00100__2022-04-22_12-29-55DLC_resnet50_ophys_whiskersJul19shuffle1_100000: (24240, 24474)\n",
      "trial_00101__2022-04-22_12-30-07DLC_resnet50_ophys_whiskersJul19shuffle1_100000: (24474, 24628)\n",
      "trial_00102__2022-04-22_12-30-15DLC_resnet50_ophys_whiskersJul19shuffle1_100000: (24628, 24853)\n",
      "trial_00103__2022-04-22_12-30-27DLC_resnet50_ophys_whiskersJul19shuffle1_100000: (24853, 25161)\n",
      "trial_00104__2022-04-22_12-30-42DLC_resnet50_ophys_whiskersJul19shuffle1_100000: (25161, 25413)\n",
      "trial_00105__2022-04-22_12-30-55DLC_resnet50_ophys_whiskersJul19shuffle1_100000: (25413, 25734)\n",
      "trial_00106__2022-04-22_12-31-12DLC_resnet50_ophys_whiskersJul19shuffle1_100000: (25734, 26022)\n",
      "trial_00107__2022-04-22_12-31-27DLC_resnet50_ophys_whiskersJul19shuffle1_100000: (26022, 26302)\n",
      "trial_00108__2022-04-22_12-31-41DLC_resnet50_ophys_whiskersJul19shuffle1_100000: (26302, 26613)\n",
      "trial_00109__2022-04-22_12-31-57DLC_resnet50_ophys_whiskersJul19shuffle1_100000: (26613, 26901)\n",
      "trial_00110__2022-04-22_12-32-12DLC_resnet50_ophys_whiskersJul19shuffle1_100000: (26901, 27136)\n",
      "trial_00111__2022-04-22_12-32-24DLC_resnet50_ophys_whiskersJul19shuffle1_100000: (27136, 27503)\n",
      "trial_00112__2022-04-22_12-32-43DLC_resnet50_ophys_whiskersJul19shuffle1_100000: (27503, 27843)\n",
      "trial_00113__2022-04-22_12-33-01DLC_resnet50_ophys_whiskersJul19shuffle1_100000: (27843, 28001)\n",
      "trial_00114__2022-04-22_12-33-09DLC_resnet50_ophys_whiskersJul19shuffle1_100000: (28001, 28518)\n",
      "trial_00115__2022-04-22_12-33-35DLC_resnet50_ophys_whiskersJul19shuffle1_100000: (28518, 28987)\n",
      "trial_00116__2022-04-22_12-33-59DLC_resnet50_ophys_whiskersJul19shuffle1_100000: (28987, 29269)\n",
      "trial_00117__2022-04-22_12-34-14DLC_resnet50_ophys_whiskersJul19shuffle1_100000: (29269, 29417)\n",
      "trial_00118__2022-04-22_12-34-22DLC_resnet50_ophys_whiskersJul19shuffle1_100000: (29417, 29722)\n",
      "trial_00119__2022-04-22_12-34-37DLC_resnet50_ophys_whiskersJul19shuffle1_100000: (29722, 29956)\n",
      "trial_00120__2022-04-22_12-34-49DLC_resnet50_ophys_whiskersJul19shuffle1_100000: (29956, 30293)\n",
      "trial_00121__2022-04-22_12-35-07DLC_resnet50_ophys_whiskersJul19shuffle1_100000: (30293, 30481)\n",
      "trial_00122__2022-04-22_12-35-16DLC_resnet50_ophys_whiskersJul19shuffle1_100000: (30481, 30715)\n",
      "trial_00123__2022-04-22_12-35-28DLC_resnet50_ophys_whiskersJul19shuffle1_100000: (30715, 30971)\n",
      "trial_00124__2022-04-22_12-35-42DLC_resnet50_ophys_whiskersJul19shuffle1_100000: (30971, 31332)\n",
      "trial_00125__2022-04-22_12-36-00DLC_resnet50_ophys_whiskersJul19shuffle1_100000: (31332, 31489)\n",
      "trial_00126__2022-04-22_12-36-08DLC_resnet50_ophys_whiskersJul19shuffle1_100000: (31489, 31786)\n",
      "trial_00127__2022-04-22_12-36-24DLC_resnet50_ophys_whiskersJul19shuffle1_100000: (31786, 32059)\n",
      "scorer                                                object\n",
      "DLC_resnet50_ophys_whiskersJul19shuffle1_100000       object\n",
      "DLC_resnet50_ophys_whiskersJul19shuffle1_100000.1     object\n",
      "DLC_resnet50_ophys_whiskersJul19shuffle1_100000.2     object\n",
      "DLC_resnet50_ophys_whiskersJul19shuffle1_100000.3     object\n",
      "DLC_resnet50_ophys_whiskersJul19shuffle1_100000.4     object\n",
      "DLC_resnet50_ophys_whiskersJul19shuffle1_100000.5     object\n",
      "DLC_resnet50_ophys_whiskersJul19shuffle1_100000.6     object\n",
      "DLC_resnet50_ophys_whiskersJul19shuffle1_100000.7     object\n",
      "DLC_resnet50_ophys_whiskersJul19shuffle1_100000.8     object\n",
      "DLC_resnet50_ophys_whiskersJul19shuffle1_100000.9     object\n",
      "DLC_resnet50_ophys_whiskersJul19shuffle1_100000.10    object\n",
      "DLC_resnet50_ophys_whiskersJul19shuffle1_100000.11    object\n",
      "DLC_resnet50_ophys_whiskersJul19shuffle1_100000.12    object\n",
      "DLC_resnet50_ophys_whiskersJul19shuffle1_100000.13    object\n",
      "DLC_resnet50_ophys_whiskersJul19shuffle1_100000.14    object\n",
      "DLC_resnet50_ophys_whiskersJul19shuffle1_100000.15    object\n",
      "DLC_resnet50_ophys_whiskersJul19shuffle1_100000.16    object\n",
      "DLC_resnet50_ophys_whiskersJul19shuffle1_100000.17    object\n",
      "DLC_resnet50_ophys_whiskersJul19shuffle1_100000.18    object\n",
      "DLC_resnet50_ophys_whiskersJul19shuffle1_100000.19    object\n",
      "DLC_resnet50_ophys_whiskersJul19shuffle1_100000.20    object\n",
      "DLC_resnet50_ophys_whiskersJul19shuffle1_100000.21    object\n",
      "DLC_resnet50_ophys_whiskersJul19shuffle1_100000.22    object\n",
      "DLC_resnet50_ophys_whiskersJul19shuffle1_100000.23    object\n",
      "DLC_resnet50_ophys_whiskersJul19shuffle1_100000.24    object\n",
      "DLC_resnet50_ophys_whiskersJul19shuffle1_100000.25    object\n",
      "DLC_resnet50_ophys_whiskersJul19shuffle1_100000.26    object\n",
      "DLC_resnet50_ophys_whiskersJul19shuffle1_100000.27    object\n",
      "DLC_resnet50_ophys_whiskersJul19shuffle1_100000.28    object\n",
      "DLC_resnet50_ophys_whiskersJul19shuffle1_100000.29    object\n",
      "DLC_resnet50_ophys_whiskersJul19shuffle1_100000.30    object\n",
      "DLC_resnet50_ophys_whiskersJul19shuffle1_100000.31    object\n",
      "DLC_resnet50_ophys_whiskersJul19shuffle1_100000.32    object\n",
      "DLC_resnet50_ophys_whiskersJul19shuffle1_100000.33    object\n",
      "DLC_resnet50_ophys_whiskersJul19shuffle1_100000.34    object\n",
      "DLC_resnet50_ophys_whiskersJul19shuffle1_100000.35    object\n",
      "DLC_resnet50_ophys_whiskersJul19shuffle1_100000.36    object\n",
      "DLC_resnet50_ophys_whiskersJul19shuffle1_100000.37    object\n",
      "DLC_resnet50_ophys_whiskersJul19shuffle1_100000.38    object\n",
      "DLC_resnet50_ophys_whiskersJul19shuffle1_100000.39    object\n",
      "DLC_resnet50_ophys_whiskersJul19shuffle1_100000.40    object\n",
      "DLC_resnet50_ophys_whiskersJul19shuffle1_100000.41    object\n",
      "dtype: object\n",
      "1515.4242268959933\n"
     ]
    }
   ],
   "source": [
    "trial_start = raw_data['trial_start'].squeeze()\n",
    "trial_indices = np.where(trial_start==1)[0]\n",
    "\n",
    "# Finding the trials from the data folder\n",
    "dfs_df = find_trials(video_dir, csv_dir, trial_indices)\n",
    "print(dfs_df.dtypes)\n",
    "dfs_df.to_csv(f'/root/capsule/scratch/{project_name}/session_data.csv', index=None)\n",
    "\n",
    "# Finding out the length of the session\n",
    "session_length = session_time(json_dir)\n",
    "print(session_length)"
   ]
  },
  {
   "cell_type": "code",
   "execution_count": 4,
   "id": "721ee89c",
   "metadata": {},
   "outputs": [
    {
     "name": "stdout",
     "output_type": "stream",
     "text": [
      "32391\n"
     ]
    },
    {
     "data": {
      "text/plain": [
       "19.4141"
      ]
     },
     "execution_count": 4,
     "metadata": {},
     "output_type": "execute_result"
    }
   ],
   "source": [
    "# Pull the dF/F values into a variable.\n",
    "dFF = raw_data['df_closedLoop'] # frames X neurons\n",
    "print(len(dFF))\n",
    "# Print out the frame start and end times that correspond to the trials.\n",
    "trial_start = raw_data['trial_start'].squeeze() # frames\n",
    "rewards = raw_data['rew'].squeeze()\n",
    "\n",
    "# Two-photon microscope sampling rate.\n",
    "sampling_rate = 1/raw_data['dt_si'][0][0]\n",
    "sampling_rate "
   ]
  },
  {
   "cell_type": "markdown",
   "id": "d9d70efb",
   "metadata": {},
   "source": [
    "Below is the visualization of recordings for one neuron throughout the whole session."
   ]
  },
  {
   "cell_type": "code",
   "execution_count": 5,
   "id": "27f3c073",
   "metadata": {},
   "outputs": [
    {
     "data": {
      "text/plain": [
       "[<matplotlib.lines.Line2D at 0x7fe6feec6550>]"
      ]
     },
     "execution_count": 5,
     "metadata": {},
     "output_type": "execute_result"
    },
    {
     "data": {
      "image/png": "[encoded data removed]",
      "text/plain": [
       "<Figure size 432x288 with 1 Axes>"
      ]
     },
     "metadata": {
      "needs_background": "light"
     },
     "output_type": "display_data"
    }
   ],
   "source": [
    "# Graph of dF/F that demonstrates the trials and introduction of rewards.\n",
    "# Can use indexing to visualize relevant parts of the session.\n",
    "%matplotlib inline\n",
    "plt.plot(dFF[:32391, 1])\n",
    "# plt.plot(trial_start[:250]) \n",
    "# plt.plot(rewards[:250])\n",
    "#plt.axis(ymin = 0)"
   ]
  },
  {
   "cell_type": "code",
   "execution_count": 6,
   "id": "e9142ab2",
   "metadata": {},
   "outputs": [
    {
     "name": "stderr",
     "output_type": "stream",
     "text": [
      "<ipython-input-6-fad58ee8e55a>:1: DtypeWarning: Columns (0,1,2,3,4,5,6,7,8,9,10,11,12,13,14,15,16,17,18,19,20,21,22,23,24,25,26,27,28,29,30,31,32,33,34,35,36,37,38,39,40,41,42) have mixed types. Specify dtype option on import or set low_memory=False.\n",
      "  df = pd.read_csv(f'/{output_dir}/session_data.csv')\n"
     ]
    },
    {
     "name": "stdout",
     "output_type": "stream",
     "text": [
      "Number of frames within the behavior data CSV file: 631666.\n",
      "Average camera frame rate for the session: 416.8245358554325.\n",
      "Average time in seconds per frame: 0.002399091017873359.\n"
     ]
    }
   ],
   "source": [
    "df = pd.read_csv(f'/{output_dir}/session_data.csv')\n",
    "\n",
    "# Extracting the number of frames minus the header.\n",
    "frames = len(df) - 1\n",
    "print(f'Number of frames within the behavior data CSV file: {frames}.')\n",
    "\n",
    "frame_rate = frames / session_length\n",
    "print(f'Average camera frame rate for the session: {frame_rate}.')\n",
    "      \n",
    "timing = 1 / frame_rate\n",
    "print(f'Average time in seconds per frame: {timing}.')"
   ]
  },
  {
   "cell_type": "markdown",
   "id": "f7975682",
   "metadata": {},
   "source": [
    "Code below adjusts the data frame format from that of DLC/LP to the capsule's required format. Depending on the number of underscores in the keypoint names, need to change one line in \"body_part_calc.py\" module (see instructions inside the method)."
   ]
  },
  {
   "cell_type": "code",
   "execution_count": 7,
   "id": "0cd3a426",
   "metadata": {},
   "outputs": [
    {
     "name": "stdout",
     "output_type": "stream",
     "text": [
      "                  tongue_tip_x  tongue_tip_y  tongue_tip_likelihood  \\\n",
      "bodyparts_coords                                                      \n",
      "0                   310.306549    176.380173               0.009805   \n",
      "1                   424.576111    185.622513               0.011460   \n",
      "2                   310.851746    177.666382               0.005762   \n",
      "3                   424.831909    185.287048               0.008424   \n",
      "4                   424.502899    185.629105               0.007261   \n",
      "...                        ...           ...                    ...   \n",
      "2620                362.382599    161.367249               0.017073   \n",
      "2621                361.884155    161.137589               0.013969   \n",
      "2622                362.547363    160.976685               0.020324   \n",
      "2623                362.060211    161.136810               0.015872   \n",
      "2624                362.055023    160.993210               0.014933   \n",
      "\n",
      "                  tongue_mid_x  tongue_mid_y  tongue_mid_likelihood  \\\n",
      "bodyparts_coords                                                      \n",
      "0                   319.843994    165.460831               0.008047   \n",
      "1                   319.420929    165.737228               0.005118   \n",
      "2                   319.345306    165.572296               0.004421   \n",
      "3                   318.806976    165.119064               0.004538   \n",
      "4                   318.782257    164.752563               0.004199   \n",
      "...                        ...           ...                    ...   \n",
      "2620                360.769989    163.146393               0.027676   \n",
      "2621                360.176422    163.729950               0.022640   \n",
      "2622                372.539398    173.487701               0.034490   \n",
      "2623                372.721436    173.804031               0.029217   \n",
      "2624                360.041382    163.583710               0.025174   \n",
      "\n",
      "                  whiskert_root_x  whiskert_root_y  whiskert_root_likelihood  \\\n",
      "bodyparts_coords                                                               \n",
      "0                      366.750885        84.383347                  0.913254   \n",
      "1                      358.980194        86.094109                  0.908811   \n",
      "2                      366.722473        83.696159                  0.920384   \n",
      "3                      358.371277        86.672600                  0.915795   \n",
      "4                      357.664551        88.012474                  0.900998   \n",
      "...                           ...              ...                       ...   \n",
      "2620                   367.320831        86.794563                  0.874166   \n",
      "2621                   367.362793        85.219231                  0.910052   \n",
      "2622                   362.706207        93.202492                  0.836699   \n",
      "2623                   366.790375        85.636459                  0.906208   \n",
      "2624                   367.333282        86.048203                  0.901722   \n",
      "\n",
      "                  whiskert_mid1_x  ...  whiskerr_root_likelihood  \\\n",
      "bodyparts_coords                   ...                             \n",
      "0                      405.348022  ...                  0.993413   \n",
      "1                      406.055359  ...                  0.995643   \n",
      "2                      407.144562  ...                  0.995581   \n",
      "3                      405.087524  ...                  0.995714   \n",
      "4                      404.928772  ...                  0.991754   \n",
      "...                           ...  ...                       ...   \n",
      "2620                   401.985840  ...                  0.900565   \n",
      "2621                   403.078491  ...                  0.946432   \n",
      "2622                   403.489655  ...                  0.937413   \n",
      "2623                   404.274414  ...                  0.892914   \n",
      "2624                   403.754456  ...                  0.926133   \n",
      "\n",
      "                  whiskerr_mid1_x  whiskerr_mid1_y  whiskerr_mid1_likelihood  \\\n",
      "bodyparts_coords                                                               \n",
      "0                      392.803375       154.338638                  0.990341   \n",
      "1                      393.596313       154.394608                  0.990050   \n",
      "2                      393.084229       154.405380                  0.989995   \n",
      "3                      392.569550       154.303680                  0.991176   \n",
      "4                      393.955475       155.364670                  0.989663   \n",
      "...                           ...              ...                       ...   \n",
      "2620                   387.211731       149.862930                  0.877391   \n",
      "2621                   383.857635       153.070312                  0.914798   \n",
      "2622                   383.706604       152.745880                  0.817924   \n",
      "2623                   389.486816       152.006744                  0.861546   \n",
      "2624                   388.772186       150.006256                  0.920335   \n",
      "\n",
      "                  whiskerr_mid2_x  whiskerr_mid2_y  whiskerr_mid2_likelihood  \\\n",
      "bodyparts_coords                                                               \n",
      "0                      415.613342       173.221146                  0.971714   \n",
      "1                      416.279724       172.484207                  0.978278   \n",
      "2                      415.812164       173.102676                  0.971924   \n",
      "3                      415.198730       173.820389                  0.980395   \n",
      "4                      416.366241       173.139420                  0.978642   \n",
      "...                           ...              ...                       ...   \n",
      "2620                   409.956787       164.757111                  0.746341   \n",
      "2621                   408.363861       165.609589                  0.769684   \n",
      "2622                   410.868744       164.466187                  0.808628   \n",
      "2623                   410.319885       164.844894                  0.762776   \n",
      "2624                   410.538544       164.986755                  0.814734   \n",
      "\n",
      "                  whiskerr_top_x  whiskerr_top_y  whiskerr_top_likelihood  \n",
      "bodyparts_coords                                                           \n",
      "0                     436.245667      193.315643                 0.720200  \n",
      "1                     434.207642      191.364258                 0.777231  \n",
      "2                     435.627106      192.986450                 0.822177  \n",
      "3                     437.121521      192.697510                 0.923768  \n",
      "4                     438.538208      192.268967                 0.927404  \n",
      "...                          ...             ...                      ...  \n",
      "2620                  420.310608      191.503677                 0.598570  \n",
      "2621                  419.457703      191.592834                 0.676904  \n",
      "2622                  423.007690      189.851608                 0.517424  \n",
      "2623                  423.033752      190.399734                 0.569606  \n",
      "2624                  423.271362      190.087189                 0.555721  \n",
      "\n",
      "[631665 rows x 42 columns]\n"
     ]
    }
   ],
   "source": [
    "# Adjust_coordinates method assumes DLC and LP-generated CSV file format.\n",
    "# It removes the header and merges two following rows together with an underscore in between.\n",
    "adjusted_coords_df = read_trial_coordinates(f'/{output_dir}/session_data.csv')\n",
    "rename_columns(adjusted_coords_df)\n",
    "adjusted_coords_df.astype('float').dtypes\n",
    "adjusted_coords_df.to_csv(f'/{output_dir}/adjusted_coords.csv', index = False)\n",
    "print(adjusted_coords_df)"
   ]
  },
  {
   "cell_type": "markdown",
   "id": "eb3c44e9",
   "metadata": {},
   "source": [
    "After the normalized speed is calculated for multiple whisker labels, they need to be averaged to find the speed of the body part as a whole."
   ]
  },
  {
   "cell_type": "code",
   "execution_count": 8,
   "id": "6083dafa",
   "metadata": {},
   "outputs": [
    {
     "name": "stdout",
     "output_type": "stream",
     "text": [
      "{'whiskert', 'whiskerm', 'whiskerr'}\n",
      "        tongue_tip_x  tongue_tip_y  tongue_tip_likelihood  tongue_mid_x  \\\n",
      "0         310.306549    176.380173               0.009805    319.843994   \n",
      "1         424.576111    185.622513               0.011460    319.420929   \n",
      "2         310.851746    177.666382               0.005762    319.345306   \n",
      "3         424.831909    185.287048               0.008424    318.806976   \n",
      "4         424.502899    185.629105               0.007261    318.782257   \n",
      "...              ...           ...                    ...           ...   \n",
      "631660    362.382599    161.367249               0.017073    360.769989   \n",
      "631661    361.884155    161.137589               0.013969    360.176422   \n",
      "631662    362.547363    160.976685               0.020324    372.539398   \n",
      "631663    362.060211    161.136810               0.015872    372.721436   \n",
      "631664    362.055023    160.993210               0.014933    360.041382   \n",
      "\n",
      "        tongue_mid_y  tongue_mid_likelihood  whiskert_root_x  whiskert_root_y  \\\n",
      "0         165.460831               0.008047       366.750885        84.383347   \n",
      "1         165.737228               0.005118       358.980194        86.094109   \n",
      "2         165.572296               0.004421       366.722473        83.696159   \n",
      "3         165.119064               0.004538       358.371277        86.672600   \n",
      "4         164.752563               0.004199       357.664551        88.012474   \n",
      "...              ...                    ...              ...              ...   \n",
      "631660    163.146393               0.027676       367.320831        86.794563   \n",
      "631661    163.729950               0.022640       367.362793        85.219231   \n",
      "631662    173.487701               0.034490       362.706207        93.202492   \n",
      "631663    173.804031               0.029217       366.790375        85.636459   \n",
      "631664    163.583710               0.025174       367.333282        86.048203   \n",
      "\n",
      "        whiskert_root_likelihood  whiskert_mid1_x  ...  \\\n",
      "0                       0.913254       405.348022  ...   \n",
      "1                       0.908811       406.055359  ...   \n",
      "2                       0.920384       407.144562  ...   \n",
      "3                       0.915795       405.087524  ...   \n",
      "4                       0.900998       404.928772  ...   \n",
      "...                          ...              ...  ...   \n",
      "631660                  0.874166       401.985840  ...   \n",
      "631661                  0.910052       403.078491  ...   \n",
      "631662                  0.836699       403.489655  ...   \n",
      "631663                  0.906208       404.274414  ...   \n",
      "631664                  0.901722       403.754456  ...   \n",
      "\n",
      "        whiskert_top_norm_speed  whiskerr_root_norm_speed  \\\n",
      "0                           NaN                       NaN   \n",
      "1                      0.007107                  0.004715   \n",
      "2                      0.011752                  0.003052   \n",
      "3                      0.010092                  0.007770   \n",
      "4                      0.013225                  0.009493   \n",
      "...                         ...                       ...   \n",
      "631660                 0.004682                  0.009474   \n",
      "631661                 0.016982                  0.007585   \n",
      "631662                 0.014464                  0.014651   \n",
      "631663                 0.009904                  0.006713   \n",
      "631664                 0.038719                  0.007233   \n",
      "\n",
      "        whiskerm_mid1_norm_speed  whiskerm_mid2_norm_speed  \\\n",
      "0                            NaN                       NaN   \n",
      "1                       0.031019                  0.006405   \n",
      "2                       0.019198                  0.019899   \n",
      "3                       0.017119                  0.015072   \n",
      "4                       0.010175                  0.006087   \n",
      "...                          ...                       ...   \n",
      "631660                  0.018560                  0.011100   \n",
      "631661                  0.014612                  0.019233   \n",
      "631662                  0.009684                  0.002086   \n",
      "631663                  0.004684                  0.004993   \n",
      "631664                  0.010192                  0.165086   \n",
      "\n",
      "        whiskert_mid2_norm_speed  whiskert_root_norm_speed  time (seconds)  \\\n",
      "0                            NaN                       NaN        0.000000   \n",
      "1                       0.006077                  0.077436        0.002399   \n",
      "2                       0.003517                  0.078879        0.004798   \n",
      "3                       0.020349                  0.086282        0.007197   \n",
      "4                       0.009067                  0.014742        0.009596   \n",
      "...                          ...                       ...             ...   \n",
      "631660                  0.014801                  0.017171     1515.409832   \n",
      "631661                  0.015759                  0.015337     1515.412231   \n",
      "631662                  0.046217                  0.089944     1515.414631   \n",
      "631663                  0.035945                  0.083676     1515.417030   \n",
      "631664                  0.046213                  0.006631     1515.419429   \n",
      "\n",
      "        whiskert_norm_speed  whiskerm_norm_speed  whiskerr_norm_speed  \n",
      "0                       NaN                  NaN                  NaN  \n",
      "1                  0.024693             0.012428             0.007155  \n",
      "2                  0.026747             0.013706             0.005171  \n",
      "3                  0.035537             0.009908             0.005912  \n",
      "4                  0.010103             0.009265             0.009164  \n",
      "...                     ...                  ...                  ...  \n",
      "631660             0.011908             0.015863             0.007569  \n",
      "631661             0.015070             0.013618             0.014096  \n",
      "631662             0.039526             0.009347             0.012494  \n",
      "631663             0.036196             0.006150             0.014200  \n",
      "631664             0.026510             0.107006             0.006609  \n",
      "\n",
      "[631665 rows x 58 columns]\n"
     ]
    },
    {
     "data": {
      "image/png": "[encoded data removed]",
      "text/plain": [
       "<Figure size 432x288 with 1 Axes>"
      ]
     },
     "metadata": {
      "needs_background": "light"
     },
     "output_type": "display_data"
    },
    {
     "data": {
      "image/png": "[encoded data removed]",
      "text/plain": [
       "<Figure size 432x288 with 1 Axes>"
      ]
     },
     "metadata": {
      "needs_background": "light"
     },
     "output_type": "display_data"
    },
    {
     "data": {
      "image/png": "[encoded data removed]",
      "text/plain": [
       "<Figure size 432x288 with 1 Axes>"
      ]
     },
     "metadata": {
      "needs_background": "light"
     },
     "output_type": "display_data"
    },
    {
     "data": {
      "image/png": "[encoded data removed]",
      "text/plain": [
       "<Figure size 432x288 with 1 Axes>"
      ]
     },
     "metadata": {
      "needs_background": "light"
     },
     "output_type": "display_data"
    }
   ],
   "source": [
    "# Calculating speed for the body parts in question. Go to the \"body_part_calc.py\" module to adjust calculation to needed bodyparts.\n",
    "speed_df = read_speed_coordinates(f'/{output_dir}/adjusted_coords.csv')\n",
    "add_speed_columns(speed_df, frame_rate)\n",
    "\n",
    "whisker_locs = set([col.split('_')[0] for col in speed_df.columns[7:79] if '_' in col])\n",
    "print(whisker_locs)\n",
    "\n",
    "for whisker_loc in whisker_locs:\n",
    "    root = f'{whisker_loc}_root_norm_speed'\n",
    "    mid1 = f'{whisker_loc}_mid1_norm_speed'\n",
    "    mid2 = f'{whisker_loc}_mid2_norm_speed'\n",
    "    top = f'{whisker_loc}_top_norm_speed'\n",
    "\n",
    "    if root in speed_df.columns and mid1 in speed_df.columns and mid2 in speed_df.columns and top in speed_df.columns:\n",
    "        speed_df[f'{whisker_loc}_norm_speed'] = (speed_df[root] + speed_df[mid1] + speed_df[mid2] + speed_df[top]) / 4\n",
    "\n",
    "speed_df.to_csv(f'{output_dir}/speed.csv', index = False)\n",
    "\n",
    "print(speed_df)\n",
    "\n",
    "# Change the column names based on the bodypart in question.\n",
    "for column in speed_df[['whiskert_norm_speed', 'whiskerm_norm_speed', 'whiskerr_norm_speed']]:\n",
    "    plt.figure()\n",
    "    plt.plot(speed_df['time (seconds)'], speed_df[column])\n",
    "    plt.ylabel('Normalized speed')\n",
    "    plt.xlabel('Time (s)')\n",
    "    plt.grid(True)\n",
    "    plt.show()\n",
    "        \n",
    "for column in speed_df[['whiskert_norm_speed', 'whiskerm_norm_speed', 'whiskerr_norm_speed']]:\n",
    "    hist = speed_df[column].hist()\n",
    "    \n",
    "csv_file = f'{output_dir}speed.csv'"
   ]
  },
  {
   "cell_type": "code",
   "execution_count": 9,
   "id": "34e71f54",
   "metadata": {},
   "outputs": [
    {
     "name": "stdout",
     "output_type": "stream",
     "text": [
      "[       nan        nan 0.0246927  ... 0.03952571 0.03619639 0.02650965]\n",
      "               0         1         2\n",
      "0       0.012428  0.012428  0.013706\n",
      "1       0.011299  0.012141  0.013706\n",
      "2       0.009164  0.009265  0.021457\n",
      "3       0.023954  0.028029  0.009908\n",
      "4       0.030961  0.030961  0.035537\n",
      "...          ...       ...       ...\n",
      "631661  0.026510  0.026510  0.026510\n",
      "631662  0.023188  0.023188  0.025068\n",
      "631663  0.023188  0.023188  0.025068\n",
      "631664  0.023188  0.025068  0.026510\n",
      "631665  0.023188  0.023188  0.025068\n",
      "\n",
      "[631666 rows x 3 columns]\n",
      "        whiskert_norm_speed  whiskerm_norm_speed  whiskerr_norm_speed\n",
      "0                  0.012428             0.012428             0.013706\n",
      "1                  0.011299             0.012141             0.013706\n",
      "2                  0.009164             0.009265             0.021457\n",
      "3                  0.023954             0.028029             0.009908\n",
      "4                  0.030961             0.030961             0.035537\n",
      "...                     ...                  ...                  ...\n",
      "631661             0.026510             0.026510             0.026510\n",
      "631662             0.023188             0.023188             0.025068\n",
      "631663             0.023188             0.023188             0.025068\n",
      "631664             0.023188             0.025068             0.026510\n",
      "631665             0.023188             0.023188             0.025068\n",
      "\n",
      "[631666 rows x 3 columns]\n",
      "21.470196190162433\n"
     ]
    }
   ],
   "source": [
    "downsamp = genfromtxt(f'{output_dir}/speed.csv', delimiter=',')\n",
    "print(downsamp[:,-3])\n",
    "filtered = scipy.ndimage.median_filter(downsamp[:,[-3,-2,-1]], size=20)\n",
    "filtered_df = pd.DataFrame(filtered)\n",
    "print(filtered_df)\n",
    "\n",
    "filtered_df.columns = speed_df.columns[-3:]\n",
    "print(filtered_df)\n",
    "filtered_df.to_csv(f'{output_dir}/filtered.csv')\n",
    "\n",
    "# Downsampling the speed dataframe to the same amount of rows as in calcium imaging data.\n",
    "# Example: there are 21 frames of behavior per 1 frame of calcium imaging for trial_00000.\n",
    "\n",
    "downsamp_rate = frame_rate / sampling_rate\n",
    "print(downsamp_rate)\n",
    "\n",
    "sequence_interval = 1\n",
    "step_size = np.round(downsamp_rate / sequence_interval).astype(\"int\")\n",
    "\n",
    "downsampled = pd.read_csv(f'{output_dir}/filtered.csv')\n",
    "\n",
    "downsampled_df = downsampled.iloc[::step_size, :]\n",
    "downsampled_df.to_csv(f'{output_dir}/downsamp.csv')"
   ]
  },
  {
   "cell_type": "markdown",
   "id": "a3d22b29",
   "metadata": {},
   "source": [
    "Computing Pearson's correlation coefficient for all the neurons in the imaging dataset and body parts in question. Might have to adjust indices if the number of missing values is significant."
   ]
  },
  {
   "cell_type": "code",
   "execution_count": 24,
   "id": "a9be0333",
   "metadata": {},
   "outputs": [
    {
     "name": "stdout",
     "output_type": "stream",
     "text": [
      "[array([nan, nan, nan, ..., nan, nan, nan]), array([nan, nan, nan, ..., nan, nan, nan]), array([5.75228769e+00, 5.75103710e+00, 5.75220898e+00, ...,\n",
      "       3.17339544e-15, 4.02423335e-16, 1.78216048e-15])]\n"
     ]
    }
   ],
   "source": [
    "from scipy.signal import oaconvolve\n",
    "\n",
    "conv_values = []\n",
    "top_whisker = filtered[:631665, -3]  \n",
    "t = np.array(speed_df['time (seconds)'])  \n",
    "\n",
    "# Define the exponential decay function\n",
    "exp_decay = np.exp(-t)\n",
    "\n",
    "# Perform the convolution\n",
    "V1 = oaconvolve(top_whisker, exp_decay, mode='same')\n",
    "conv_values.append(V1)\n",
    "\n",
    "middle_whisker = filtered[:631665, -2]   \n",
    "V2 = oaconvolve(middle_whisker, exp_decay, mode='same')\n",
    "conv_values.append(V2)\n",
    "\n",
    "root_whisker = filtered[:631665, -1]   \n",
    "V3 = oaconvolve(root_whisker, exp_decay, mode='same')\n",
    "conv_values.append(V3)\n",
    "\n",
    "print(conv_values)"
   ]
  },
  {
   "cell_type": "code",
   "execution_count": 29,
   "id": "71bc5e7a",
   "metadata": {},
   "outputs": [
    {
     "name": "stdout",
     "output_type": "stream",
     "text": [
      "        whiskert_norm_speed  whiskerm_norm_speed  whiskerr_norm_speed\n",
      "0                       NaN                  NaN         5.752288e+00\n",
      "1                       NaN                  NaN         5.751037e+00\n",
      "2                       NaN                  NaN         5.752209e+00\n",
      "3                       NaN                  NaN         5.756548e+00\n",
      "4                       NaN                  NaN         5.762076e+00\n",
      "...                     ...                  ...                  ...\n",
      "631660                  NaN                  NaN        -3.046920e-15\n",
      "631661                  NaN                  NaN         7.128642e-16\n",
      "631662                  NaN                  NaN         3.173395e-15\n",
      "631663                  NaN                  NaN         4.024233e-16\n",
      "631664                  NaN                  NaN         1.782160e-15\n",
      "\n",
      "[631665 rows x 3 columns]\n"
     ]
    },
    {
     "data": {
      "image/png": "[encoded data removed]",
      "text/plain": [
       "<Figure size 432x288 with 1 Axes>"
      ]
     },
     "metadata": {
      "needs_background": "light"
     },
     "output_type": "display_data"
    },
    {
     "data": {
      "image/png": "[encoded data removed]",
      "text/plain": [
       "<Figure size 432x288 with 1 Axes>"
      ]
     },
     "metadata": {
      "needs_background": "light"
     },
     "output_type": "display_data"
    },
    {
     "data": {
      "image/png": "[encoded data removed]",
      "text/plain": [
       "<Figure size 432x288 with 1 Axes>"
      ]
     },
     "metadata": {
      "needs_background": "light"
     },
     "output_type": "display_data"
    },
    {
     "data": {
      "image/png": "[encoded data removed]",
      "text/plain": [
       "<Figure size 432x288 with 1 Axes>"
      ]
     },
     "metadata": {
      "needs_background": "light"
     },
     "output_type": "display_data"
    }
   ],
   "source": [
    "conv_df = pd.DataFrame(conv_values)\n",
    "conv_df_transposed = conv_df.T\n",
    "conv_df_transposed = conv_df_transposed.loc[~(conv_df_transposed==0).all(axis=1)]\n",
    "conv_df_transposed.columns = speed_df.columns[-3:]\n",
    "print(conv_df_transposed)\n",
    "\n",
    "for column in conv_df_transposed[['whiskert_norm_speed', 'whiskerm_norm_speed', 'whiskerr_norm_speed']]:\n",
    "    plt.figure()\n",
    "    plt.plot(conv_df_transposed.index, conv_df_transposed[column])\n",
    "    plt.ylabel('Normalized speed')\n",
    "    plt.xlabel('Time (s)')\n",
    "    plt.grid(True)\n",
    "    plt.show()\n",
    "        \n",
    "for column in conv_df_transposed[['whiskert_norm_speed', 'whiskerm_norm_speed', 'whiskerr_norm_speed']]:\n",
    "    hist = conv_df_transposed[column].hist()"
   ]
  },
  {
   "cell_type": "code",
   "execution_count": 40,
   "id": "58cab9d7",
   "metadata": {},
   "outputs": [
    {
     "name": "stdout",
     "output_type": "stream",
     "text": [
      "(32391, 544)\n"
     ]
    }
   ],
   "source": [
    "# Creating a calcium imaging dataframe to do further analysis and plot the dF/F/t graph.\n",
    "print(dFF.shape)\n",
    "corr_coeff_whiskert = []\n",
    "corr_coeff_whiskerm = []\n",
    "corr_coeff_whiskerr = []\n",
    "\n",
    "for n in range(dFF.shape[1]):\n",
    "    dFFt = pd.DataFrame(dFF[:30079, n])\n",
    "    dFFt = dFFt.dropna()\n",
    "        \n",
    "    behav = pd.read_csv(f'/{output_dir}/downsamp.csv')\n",
    "    behav = behav.dropna()\n",
    "    \n",
    "    if len(dFFt) != len(behav):\n",
    "        continue\n",
    "\n",
    "    whiskert_cal_beh = pearsonr(dFFt[0], behav['whiskert_norm_speed'])\n",
    "    corr_coeff_whiskert.append(whiskert_cal_beh)\n",
    "    coeff_whiskert_df = pd.DataFrame(corr_coeff_whiskert)\n",
    "    coeff_whiskert_df.to_csv(f'{output_dir}/whiskert_corr_coefficients.csv', index=None)\n",
    "\n",
    "    whiskerm_cal_beh = pearsonr(dFFt[0], behav['whiskerm_norm_speed'])\n",
    "    corr_coeff_whiskerm.append(whiskerm_cal_beh)\n",
    "    coeff_whiskerm_df = pd.DataFrame(corr_coeff_whiskerm)\n",
    "    coeff_whiskerm_df.to_csv(f'{output_dir}/whiskerm_corr_coefficients.csv', index=None)\n",
    "\n",
    "    whiskerr_cal_beh = pearsonr(dFFt[0], behav['whiskerr_norm_speed'])\n",
    "    corr_coeff_whiskerr.append(whiskerr_cal_beh)\n",
    "    coeff_whiskerr_df = pd.DataFrame(corr_coeff_whiskerr)\n",
    "    coeff_whiskerr_df.to_csv(f'{output_dir}/whiskerr_corr_coefficients.csv', index=None)"
   ]
  },
  {
   "cell_type": "markdown",
   "id": "c5aef0b5",
   "metadata": {},
   "source": [
    "The graphs below are generated only for one neuron at a time as examples. "
   ]
  },
  {
   "cell_type": "code",
   "execution_count": null,
   "id": "95b960a5",
   "metadata": {},
   "outputs": [],
   "source": [
    "#Creating graphs that demonstrate the concatenation of two normalized graphs.\n",
    "\n",
    "dFFt = pd.DataFrame(dFF[:30080, 1])\n",
    "dFFt.index = dFFt.index / sampling_rate\n",
    "\n",
    "dFFt['rescaled'] = dFFt.index\n",
    "\n",
    "ax = dFFt.plot(x='rescaled')\n",
    "behav.plot(x='time (seconds)', y='whiskert_norm_speed', ax=ax)\n",
    "plt.axis(ymin = 0)\n",
    "plt.legend(('dF/F', 'Top Whisker Speed (Normalized)'), loc='upper right')\n",
    "plt.xlabel(\"Time (s)\")\n",
    "plt.savefig(f'/{output_dir}/corr_graph_top.png')\n",
    "\n",
    "ax = dFFt.plot(x='rescaled')\n",
    "behav.plot(x='time (seconds)', y='whiskerm_norm_speed', ax=ax)\n",
    "plt.axis(ymin = 0)\n",
    "plt.legend(('dF/F', 'Middle Whisker Speed (Normalized)'), loc='upper right')\n",
    "plt.xlabel(\"Time (s)\")\n",
    "plt.savefig(f'/{output_dir}/corr_graph_mid.png')\n",
    "\n",
    "ax = dFFt.plot(x='rescaled')\n",
    "behav.plot(x='time (seconds)', y='whiskerr_norm_speed', ax=ax)\n",
    "plt.axis(ymin = 0)\n",
    "plt.legend(('dF/F', 'Root Whisker Speed (Normalized)'), loc='upper right')\n",
    "plt.xlabel(\"Time (s)\")\n",
    "plt.savefig(f'/{output_dir}/corr_graph_root.png')"
   ]
  },
  {
   "cell_type": "code",
   "execution_count": null,
   "id": "5c69c713",
   "metadata": {},
   "outputs": [],
   "source": []
  }
 ],
 "metadata": {
  "kernelspec": {
   "display_name": "Python 3",
   "language": "python",
   "name": "python3"
  },
  "language_info": {
   "codemirror_mode": {
    "name": "ipython",
    "version": 3
   },
   "file_extension": ".py",
   "mimetype": "text/x-python",
   "name": "python",
   "nbconvert_exporter": "python",
   "pygments_lexer": "ipython3",
   "version": "3.8.5"
  }
 },
 "nbformat": 4,
 "nbformat_minor": 5
}
